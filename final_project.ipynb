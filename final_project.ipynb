{
 "cells": [
  {
   "cell_type": "markdown",
   "metadata": {},
   "source": [
    "## Dictionary and Imports"
   ]
  },
  {
   "cell_type": "code",
   "execution_count": 377,
   "metadata": {},
   "outputs": [],
   "source": [
    "# Dictionary of users and passwords registered\n",
    "AUTHORIZED_USERS = {\n",
    "    \"Arianna\": \"falcon\",\n",
    "    \"Andre\": \"tiger\"\n",
    "}"
   ]
  },
  {
   "cell_type": "code",
   "execution_count": 378,
   "metadata": {},
   "outputs": [],
   "source": [
    "import os\n",
    "import random\n",
    "import numpy as np\n",
    "import librosa\n",
    "from fuzzywuzzy import fuzz\n",
    "import matplotlib.pyplot as plt\n",
    "import speech_recognition as sr\n",
    "import tsfel\n",
    "import pandas as pd\n",
    "\n",
    "from scipy.signal import butter, lfilter\n",
    "from sklearn.decomposition import PCA\n",
    "from sklearn.ensemble import RandomForestClassifier"
   ]
  },
  {
   "cell_type": "markdown",
   "metadata": {},
   "source": [
    "## Voice acquisition and processing module\n",
    "The user speaks into the microphone.\n",
    "The signal is preprocessed to remove noise and normalized.\n",
    "\n",
    "Alternatively, one of the audio files already present in the folder can be used.\n",
    "The signal is processed in the same way."
   ]
  },
  {
   "cell_type": "code",
   "execution_count": 379,
   "metadata": {},
   "outputs": [],
   "source": [
    "# function to apply a band-pass filter\n",
    "def preprocess_audio(file_path, low_cutoff=100, high_cutoff=3000):\n",
    "    signal, sr = librosa.load(file_path, sr=16000)\n",
    "    normalized_signal = librosa.util.normalize(signal)\n",
    "\n",
    "    nyquist = 0.5 * sr\n",
    "    low = low_cutoff / nyquist\n",
    "    high = high_cutoff / nyquist\n",
    "    \n",
    "    b, a = butter(5, [low, high], btype='band')\n",
    "    filtered_signal = lfilter(b, a, normalized_signal)\n",
    "    return filtered_signal, sr  \n",
    "\n",
    "# function to acquire audio from \"test\" folder\n",
    "def choose_test_audio(n):\n",
    "    test_folder = \"./dataset/test\" \n",
    "    audio_files = [f for f in os.listdir(test_folder) if f.endswith('.wav')]\n",
    "    audio_files.sort(reverse=True)\n",
    "\n",
    "    if not audio_files:\n",
    "        raise FileNotFoundError(\"No audio files found in the 'test' folder.\")\n",
    "\n",
    "    if n == 0:  # Se n == 0, random choice\n",
    "        selected_file = random.choice(audio_files)\n",
    "    else:  # otherwise, choose n-th file\n",
    "        if n > len(audio_files):\n",
    "            raise IndexError(f\"The test folder contains only {len(audio_files)} files.\")\n",
    "        audio_files.reverse()\n",
    "        selected_file = audio_files[n - 1]\n",
    "\n",
    "    file_path = os.path.join(test_folder, selected_file)\n",
    "    return file_path\n",
    "\n",
    "# function to extract mfcc\n",
    "def extract_mfcc(file_path):\n",
    "    [y, sr] = preprocess_audio(file_path)\n",
    " \n",
    "    signal_df = pd.DataFrame(y, columns=[\"Signal\"])\n",
    "\n",
    "    features = tsfel.get_features_by_domain()\n",
    "    extracted_features = tsfel.time_series_features_extractor(features, signal_df, fr=sr)\n",
    "\n",
    "    # mfcc = librosa.feature.mfcc(y=y, sr=sr, n_mfcc=13)\n",
    "    # mfcc_mean = np.mean(mfcc, axis=1)  # MFCC mean on all time windows \n",
    "    # mfcc_std = np.std(mfcc, axis=1)\n",
    "    # embedding = np.concatenate((mfcc_mean, mfcc_std))\n",
    "\n",
    "    return extracted_features.to_numpy(), y"
   ]
  },
  {
   "cell_type": "markdown",
   "metadata": {},
   "source": [
    "## Features extraction\n",
    "\n",
    "Generates a unique numerical embedding from voice characteristics to identify the speaker. \n",
    "\n",
    "Returns the estimated identity (\"Arianna\", \"Andre\", or \"Unauthorized\")."
   ]
  },
  {
   "cell_type": "code",
   "execution_count": 380,
   "metadata": {},
   "outputs": [
    {
     "name": "stderr",
     "output_type": "stream",
     "text": [
      "/var/folders/sr/95bqt2d14s56nk202mq58vrh0000gn/T/ipykernel_78344/4057692070.py:41: UserWarning: Using default sampling frequency set in configuration file.\n",
      "  extracted_features = tsfel.time_series_features_extractor(features, signal_df, fr=sr)\n"
     ]
    },
    {
     "data": {
      "text/html": [
       "\n",
       "              <p>\n",
       "                  Progress: 11% Complete\n",
       "              <p/>\n",
       "              <progress\n",
       "                  value='8'\n",
       "                  max='67',\n",
       "                  style='width: 25%',\n",
       "              >\n",
       "                  8\n",
       "              </progress>\n",
       "\n",
       "    "
      ],
      "text/plain": [
       "<IPython.core.display.HTML object>"
      ]
     },
     "metadata": {},
     "output_type": "display_data"
    },
    {
     "name": "stderr",
     "output_type": "stream",
     "text": [
      "/var/folders/sr/95bqt2d14s56nk202mq58vrh0000gn/T/ipykernel_78344/4057692070.py:41: UserWarning: Using default sampling frequency set in configuration file.\n",
      "  extracted_features = tsfel.time_series_features_extractor(features, signal_df, fr=sr)\n"
     ]
    },
    {
     "data": {
      "text/html": [
       "\n",
       "              <p>\n",
       "                  Progress: 100% Complete\n",
       "              <p/>\n",
       "              <progress\n",
       "                  value='67'\n",
       "                  max='67',\n",
       "                  style='width: 25%',\n",
       "              >\n",
       "                  67\n",
       "              </progress>\n",
       "\n",
       "    "
      ],
      "text/plain": [
       "<IPython.core.display.HTML object>"
      ]
     },
     "metadata": {},
     "output_type": "display_data"
    },
    {
     "name": "stderr",
     "output_type": "stream",
     "text": [
      "/var/folders/sr/95bqt2d14s56nk202mq58vrh0000gn/T/ipykernel_78344/4057692070.py:41: UserWarning: Using default sampling frequency set in configuration file.\n",
      "  extracted_features = tsfel.time_series_features_extractor(features, signal_df, fr=sr)\n"
     ]
    },
    {
     "data": {
      "text/html": [
       "\n",
       "              <p>\n",
       "                  Progress: 100% Complete\n",
       "              <p/>\n",
       "              <progress\n",
       "                  value='67'\n",
       "                  max='67',\n",
       "                  style='width: 25%',\n",
       "              >\n",
       "                  67\n",
       "              </progress>\n",
       "\n",
       "    "
      ],
      "text/plain": [
       "<IPython.core.display.HTML object>"
      ]
     },
     "metadata": {},
     "output_type": "display_data"
    },
    {
     "name": "stderr",
     "output_type": "stream",
     "text": [
      "/var/folders/sr/95bqt2d14s56nk202mq58vrh0000gn/T/ipykernel_78344/4057692070.py:41: UserWarning: Using default sampling frequency set in configuration file.\n",
      "  extracted_features = tsfel.time_series_features_extractor(features, signal_df, fr=sr)\n"
     ]
    },
    {
     "data": {
      "text/html": [
       "\n",
       "              <p>\n",
       "                  Progress: 100% Complete\n",
       "              <p/>\n",
       "              <progress\n",
       "                  value='67'\n",
       "                  max='67',\n",
       "                  style='width: 25%',\n",
       "              >\n",
       "                  67\n",
       "              </progress>\n",
       "\n",
       "    "
      ],
      "text/plain": [
       "<IPython.core.display.HTML object>"
      ]
     },
     "metadata": {},
     "output_type": "display_data"
    },
    {
     "name": "stderr",
     "output_type": "stream",
     "text": [
      "/var/folders/sr/95bqt2d14s56nk202mq58vrh0000gn/T/ipykernel_78344/4057692070.py:41: UserWarning: Using default sampling frequency set in configuration file.\n",
      "  extracted_features = tsfel.time_series_features_extractor(features, signal_df, fr=sr)\n"
     ]
    },
    {
     "data": {
      "text/html": [
       "\n",
       "              <p>\n",
       "                  Progress: 100% Complete\n",
       "              <p/>\n",
       "              <progress\n",
       "                  value='67'\n",
       "                  max='67',\n",
       "                  style='width: 25%',\n",
       "              >\n",
       "                  67\n",
       "              </progress>\n",
       "\n",
       "    "
      ],
      "text/plain": [
       "<IPython.core.display.HTML object>"
      ]
     },
     "metadata": {},
     "output_type": "display_data"
    },
    {
     "name": "stderr",
     "output_type": "stream",
     "text": [
      "/var/folders/sr/95bqt2d14s56nk202mq58vrh0000gn/T/ipykernel_78344/4057692070.py:41: UserWarning: Using default sampling frequency set in configuration file.\n",
      "  extracted_features = tsfel.time_series_features_extractor(features, signal_df, fr=sr)\n"
     ]
    },
    {
     "data": {
      "text/html": [
       "\n",
       "              <p>\n",
       "                  Progress: 100% Complete\n",
       "              <p/>\n",
       "              <progress\n",
       "                  value='67'\n",
       "                  max='67',\n",
       "                  style='width: 25%',\n",
       "              >\n",
       "                  67\n",
       "              </progress>\n",
       "\n",
       "    "
      ],
      "text/plain": [
       "<IPython.core.display.HTML object>"
      ]
     },
     "metadata": {},
     "output_type": "display_data"
    },
    {
     "name": "stderr",
     "output_type": "stream",
     "text": [
      "/var/folders/sr/95bqt2d14s56nk202mq58vrh0000gn/T/ipykernel_78344/4057692070.py:41: UserWarning: Using default sampling frequency set in configuration file.\n",
      "  extracted_features = tsfel.time_series_features_extractor(features, signal_df, fr=sr)\n"
     ]
    },
    {
     "data": {
      "text/html": [
       "\n",
       "              <p>\n",
       "                  Progress: 100% Complete\n",
       "              <p/>\n",
       "              <progress\n",
       "                  value='67'\n",
       "                  max='67',\n",
       "                  style='width: 25%',\n",
       "              >\n",
       "                  67\n",
       "              </progress>\n",
       "\n",
       "    "
      ],
      "text/plain": [
       "<IPython.core.display.HTML object>"
      ]
     },
     "metadata": {},
     "output_type": "display_data"
    },
    {
     "name": "stderr",
     "output_type": "stream",
     "text": [
      "/var/folders/sr/95bqt2d14s56nk202mq58vrh0000gn/T/ipykernel_78344/4057692070.py:41: UserWarning: Using default sampling frequency set in configuration file.\n",
      "  extracted_features = tsfel.time_series_features_extractor(features, signal_df, fr=sr)\n"
     ]
    },
    {
     "data": {
      "text/html": [
       "\n",
       "              <p>\n",
       "                  Progress: 100% Complete\n",
       "              <p/>\n",
       "              <progress\n",
       "                  value='67'\n",
       "                  max='67',\n",
       "                  style='width: 25%',\n",
       "              >\n",
       "                  67\n",
       "              </progress>\n",
       "\n",
       "    "
      ],
      "text/plain": [
       "<IPython.core.display.HTML object>"
      ]
     },
     "metadata": {},
     "output_type": "display_data"
    },
    {
     "name": "stderr",
     "output_type": "stream",
     "text": [
      "/var/folders/sr/95bqt2d14s56nk202mq58vrh0000gn/T/ipykernel_78344/4057692070.py:41: UserWarning: Using default sampling frequency set in configuration file.\n",
      "  extracted_features = tsfel.time_series_features_extractor(features, signal_df, fr=sr)\n"
     ]
    },
    {
     "data": {
      "text/html": [
       "\n",
       "              <p>\n",
       "                  Progress: 100% Complete\n",
       "              <p/>\n",
       "              <progress\n",
       "                  value='67'\n",
       "                  max='67',\n",
       "                  style='width: 25%',\n",
       "              >\n",
       "                  67\n",
       "              </progress>\n",
       "\n",
       "    "
      ],
      "text/plain": [
       "<IPython.core.display.HTML object>"
      ]
     },
     "metadata": {},
     "output_type": "display_data"
    },
    {
     "name": "stderr",
     "output_type": "stream",
     "text": [
      "/var/folders/sr/95bqt2d14s56nk202mq58vrh0000gn/T/ipykernel_78344/4057692070.py:41: UserWarning: Using default sampling frequency set in configuration file.\n",
      "  extracted_features = tsfel.time_series_features_extractor(features, signal_df, fr=sr)\n"
     ]
    },
    {
     "data": {
      "text/html": [
       "\n",
       "              <p>\n",
       "                  Progress: 100% Complete\n",
       "              <p/>\n",
       "              <progress\n",
       "                  value='67'\n",
       "                  max='67',\n",
       "                  style='width: 25%',\n",
       "              >\n",
       "                  67\n",
       "              </progress>\n",
       "\n",
       "    "
      ],
      "text/plain": [
       "<IPython.core.display.HTML object>"
      ]
     },
     "metadata": {},
     "output_type": "display_data"
    },
    {
     "name": "stderr",
     "output_type": "stream",
     "text": [
      "/var/folders/sr/95bqt2d14s56nk202mq58vrh0000gn/T/ipykernel_78344/4057692070.py:41: UserWarning: Using default sampling frequency set in configuration file.\n",
      "  extracted_features = tsfel.time_series_features_extractor(features, signal_df, fr=sr)\n"
     ]
    },
    {
     "data": {
      "text/html": [
       "\n",
       "              <p>\n",
       "                  Progress: 100% Complete\n",
       "              <p/>\n",
       "              <progress\n",
       "                  value='67'\n",
       "                  max='67',\n",
       "                  style='width: 25%',\n",
       "              >\n",
       "                  67\n",
       "              </progress>\n",
       "\n",
       "    "
      ],
      "text/plain": [
       "<IPython.core.display.HTML object>"
      ]
     },
     "metadata": {},
     "output_type": "display_data"
    },
    {
     "name": "stderr",
     "output_type": "stream",
     "text": [
      "/var/folders/sr/95bqt2d14s56nk202mq58vrh0000gn/T/ipykernel_78344/4057692070.py:41: UserWarning: Using default sampling frequency set in configuration file.\n",
      "  extracted_features = tsfel.time_series_features_extractor(features, signal_df, fr=sr)\n"
     ]
    },
    {
     "data": {
      "text/html": [
       "\n",
       "              <p>\n",
       "                  Progress: 100% Complete\n",
       "              <p/>\n",
       "              <progress\n",
       "                  value='67'\n",
       "                  max='67',\n",
       "                  style='width: 25%',\n",
       "              >\n",
       "                  67\n",
       "              </progress>\n",
       "\n",
       "    "
      ],
      "text/plain": [
       "<IPython.core.display.HTML object>"
      ]
     },
     "metadata": {},
     "output_type": "display_data"
    },
    {
     "name": "stderr",
     "output_type": "stream",
     "text": [
      "/var/folders/sr/95bqt2d14s56nk202mq58vrh0000gn/T/ipykernel_78344/4057692070.py:41: UserWarning: Using default sampling frequency set in configuration file.\n",
      "  extracted_features = tsfel.time_series_features_extractor(features, signal_df, fr=sr)\n"
     ]
    },
    {
     "data": {
      "text/html": [
       "\n",
       "              <p>\n",
       "                  Progress: 100% Complete\n",
       "              <p/>\n",
       "              <progress\n",
       "                  value='67'\n",
       "                  max='67',\n",
       "                  style='width: 25%',\n",
       "              >\n",
       "                  67\n",
       "              </progress>\n",
       "\n",
       "    "
      ],
      "text/plain": [
       "<IPython.core.display.HTML object>"
      ]
     },
     "metadata": {},
     "output_type": "display_data"
    },
    {
     "name": "stderr",
     "output_type": "stream",
     "text": [
      "/var/folders/sr/95bqt2d14s56nk202mq58vrh0000gn/T/ipykernel_78344/4057692070.py:41: UserWarning: Using default sampling frequency set in configuration file.\n",
      "  extracted_features = tsfel.time_series_features_extractor(features, signal_df, fr=sr)\n"
     ]
    },
    {
     "data": {
      "text/html": [
       "\n",
       "              <p>\n",
       "                  Progress: 100% Complete\n",
       "              <p/>\n",
       "              <progress\n",
       "                  value='67'\n",
       "                  max='67',\n",
       "                  style='width: 25%',\n",
       "              >\n",
       "                  67\n",
       "              </progress>\n",
       "\n",
       "    "
      ],
      "text/plain": [
       "<IPython.core.display.HTML object>"
      ]
     },
     "metadata": {},
     "output_type": "display_data"
    },
    {
     "name": "stderr",
     "output_type": "stream",
     "text": [
      "/var/folders/sr/95bqt2d14s56nk202mq58vrh0000gn/T/ipykernel_78344/4057692070.py:41: UserWarning: Using default sampling frequency set in configuration file.\n",
      "  extracted_features = tsfel.time_series_features_extractor(features, signal_df, fr=sr)\n"
     ]
    },
    {
     "data": {
      "text/html": [
       "\n",
       "              <p>\n",
       "                  Progress: 100% Complete\n",
       "              <p/>\n",
       "              <progress\n",
       "                  value='67'\n",
       "                  max='67',\n",
       "                  style='width: 25%',\n",
       "              >\n",
       "                  67\n",
       "              </progress>\n",
       "\n",
       "    "
      ],
      "text/plain": [
       "<IPython.core.display.HTML object>"
      ]
     },
     "metadata": {},
     "output_type": "display_data"
    },
    {
     "name": "stderr",
     "output_type": "stream",
     "text": [
      "/var/folders/sr/95bqt2d14s56nk202mq58vrh0000gn/T/ipykernel_78344/4057692070.py:41: UserWarning: Using default sampling frequency set in configuration file.\n",
      "  extracted_features = tsfel.time_series_features_extractor(features, signal_df, fr=sr)\n"
     ]
    },
    {
     "data": {
      "text/html": [
       "\n",
       "              <p>\n",
       "                  Progress: 100% Complete\n",
       "              <p/>\n",
       "              <progress\n",
       "                  value='67'\n",
       "                  max='67',\n",
       "                  style='width: 25%',\n",
       "              >\n",
       "                  67\n",
       "              </progress>\n",
       "\n",
       "    "
      ],
      "text/plain": [
       "<IPython.core.display.HTML object>"
      ]
     },
     "metadata": {},
     "output_type": "display_data"
    },
    {
     "name": "stderr",
     "output_type": "stream",
     "text": [
      "/var/folders/sr/95bqt2d14s56nk202mq58vrh0000gn/T/ipykernel_78344/4057692070.py:41: UserWarning: Using default sampling frequency set in configuration file.\n",
      "  extracted_features = tsfel.time_series_features_extractor(features, signal_df, fr=sr)\n"
     ]
    },
    {
     "data": {
      "text/html": [
       "\n",
       "              <p>\n",
       "                  Progress: 100% Complete\n",
       "              <p/>\n",
       "              <progress\n",
       "                  value='67'\n",
       "                  max='67',\n",
       "                  style='width: 25%',\n",
       "              >\n",
       "                  67\n",
       "              </progress>\n",
       "\n",
       "    "
      ],
      "text/plain": [
       "<IPython.core.display.HTML object>"
      ]
     },
     "metadata": {},
     "output_type": "display_data"
    },
    {
     "name": "stderr",
     "output_type": "stream",
     "text": [
      "/var/folders/sr/95bqt2d14s56nk202mq58vrh0000gn/T/ipykernel_78344/4057692070.py:41: UserWarning: Using default sampling frequency set in configuration file.\n",
      "  extracted_features = tsfel.time_series_features_extractor(features, signal_df, fr=sr)\n"
     ]
    },
    {
     "data": {
      "text/html": [
       "\n",
       "              <p>\n",
       "                  Progress: 100% Complete\n",
       "              <p/>\n",
       "              <progress\n",
       "                  value='67'\n",
       "                  max='67',\n",
       "                  style='width: 25%',\n",
       "              >\n",
       "                  67\n",
       "              </progress>\n",
       "\n",
       "    "
      ],
      "text/plain": [
       "<IPython.core.display.HTML object>"
      ]
     },
     "metadata": {},
     "output_type": "display_data"
    },
    {
     "name": "stderr",
     "output_type": "stream",
     "text": [
      "/var/folders/sr/95bqt2d14s56nk202mq58vrh0000gn/T/ipykernel_78344/4057692070.py:41: UserWarning: Using default sampling frequency set in configuration file.\n",
      "  extracted_features = tsfel.time_series_features_extractor(features, signal_df, fr=sr)\n"
     ]
    },
    {
     "data": {
      "text/html": [
       "\n",
       "              <p>\n",
       "                  Progress: 100% Complete\n",
       "              <p/>\n",
       "              <progress\n",
       "                  value='67'\n",
       "                  max='67',\n",
       "                  style='width: 25%',\n",
       "              >\n",
       "                  67\n",
       "              </progress>\n",
       "\n",
       "    "
      ],
      "text/plain": [
       "<IPython.core.display.HTML object>"
      ]
     },
     "metadata": {},
     "output_type": "display_data"
    },
    {
     "name": "stderr",
     "output_type": "stream",
     "text": [
      "/var/folders/sr/95bqt2d14s56nk202mq58vrh0000gn/T/ipykernel_78344/4057692070.py:41: UserWarning: Using default sampling frequency set in configuration file.\n",
      "  extracted_features = tsfel.time_series_features_extractor(features, signal_df, fr=sr)\n"
     ]
    },
    {
     "data": {
      "text/html": [
       "\n",
       "              <p>\n",
       "                  Progress: 100% Complete\n",
       "              <p/>\n",
       "              <progress\n",
       "                  value='67'\n",
       "                  max='67',\n",
       "                  style='width: 25%',\n",
       "              >\n",
       "                  67\n",
       "              </progress>\n",
       "\n",
       "    "
      ],
      "text/plain": [
       "<IPython.core.display.HTML object>"
      ]
     },
     "metadata": {},
     "output_type": "display_data"
    },
    {
     "name": "stderr",
     "output_type": "stream",
     "text": [
      "/var/folders/sr/95bqt2d14s56nk202mq58vrh0000gn/T/ipykernel_78344/4057692070.py:41: UserWarning: Using default sampling frequency set in configuration file.\n",
      "  extracted_features = tsfel.time_series_features_extractor(features, signal_df, fr=sr)\n"
     ]
    },
    {
     "data": {
      "text/html": [
       "\n",
       "              <p>\n",
       "                  Progress: 100% Complete\n",
       "              <p/>\n",
       "              <progress\n",
       "                  value='67'\n",
       "                  max='67',\n",
       "                  style='width: 25%',\n",
       "              >\n",
       "                  67\n",
       "              </progress>\n",
       "\n",
       "    "
      ],
      "text/plain": [
       "<IPython.core.display.HTML object>"
      ]
     },
     "metadata": {},
     "output_type": "display_data"
    },
    {
     "name": "stderr",
     "output_type": "stream",
     "text": [
      "/var/folders/sr/95bqt2d14s56nk202mq58vrh0000gn/T/ipykernel_78344/4057692070.py:41: UserWarning: Using default sampling frequency set in configuration file.\n",
      "  extracted_features = tsfel.time_series_features_extractor(features, signal_df, fr=sr)\n"
     ]
    },
    {
     "data": {
      "text/html": [
       "\n",
       "              <p>\n",
       "                  Progress: 100% Complete\n",
       "              <p/>\n",
       "              <progress\n",
       "                  value='67'\n",
       "                  max='67',\n",
       "                  style='width: 25%',\n",
       "              >\n",
       "                  67\n",
       "              </progress>\n",
       "\n",
       "    "
      ],
      "text/plain": [
       "<IPython.core.display.HTML object>"
      ]
     },
     "metadata": {},
     "output_type": "display_data"
    },
    {
     "name": "stderr",
     "output_type": "stream",
     "text": [
      "/var/folders/sr/95bqt2d14s56nk202mq58vrh0000gn/T/ipykernel_78344/4057692070.py:41: UserWarning: Using default sampling frequency set in configuration file.\n",
      "  extracted_features = tsfel.time_series_features_extractor(features, signal_df, fr=sr)\n"
     ]
    },
    {
     "data": {
      "text/html": [
       "\n",
       "              <p>\n",
       "                  Progress: 100% Complete\n",
       "              <p/>\n",
       "              <progress\n",
       "                  value='67'\n",
       "                  max='67',\n",
       "                  style='width: 25%',\n",
       "              >\n",
       "                  67\n",
       "              </progress>\n",
       "\n",
       "    "
      ],
      "text/plain": [
       "<IPython.core.display.HTML object>"
      ]
     },
     "metadata": {},
     "output_type": "display_data"
    },
    {
     "name": "stderr",
     "output_type": "stream",
     "text": [
      "/var/folders/sr/95bqt2d14s56nk202mq58vrh0000gn/T/ipykernel_78344/4057692070.py:41: UserWarning: Using default sampling frequency set in configuration file.\n",
      "  extracted_features = tsfel.time_series_features_extractor(features, signal_df, fr=sr)\n"
     ]
    },
    {
     "data": {
      "text/html": [
       "\n",
       "              <p>\n",
       "                  Progress: 100% Complete\n",
       "              <p/>\n",
       "              <progress\n",
       "                  value='67'\n",
       "                  max='67',\n",
       "                  style='width: 25%',\n",
       "              >\n",
       "                  67\n",
       "              </progress>\n",
       "\n",
       "    "
      ],
      "text/plain": [
       "<IPython.core.display.HTML object>"
      ]
     },
     "metadata": {},
     "output_type": "display_data"
    },
    {
     "name": "stderr",
     "output_type": "stream",
     "text": [
      "/var/folders/sr/95bqt2d14s56nk202mq58vrh0000gn/T/ipykernel_78344/4057692070.py:41: UserWarning: Using default sampling frequency set in configuration file.\n",
      "  extracted_features = tsfel.time_series_features_extractor(features, signal_df, fr=sr)\n"
     ]
    },
    {
     "data": {
      "text/html": [
       "\n",
       "              <p>\n",
       "                  Progress: 100% Complete\n",
       "              <p/>\n",
       "              <progress\n",
       "                  value='67'\n",
       "                  max='67',\n",
       "                  style='width: 25%',\n",
       "              >\n",
       "                  67\n",
       "              </progress>\n",
       "\n",
       "    "
      ],
      "text/plain": [
       "<IPython.core.display.HTML object>"
      ]
     },
     "metadata": {},
     "output_type": "display_data"
    },
    {
     "name": "stderr",
     "output_type": "stream",
     "text": [
      "/var/folders/sr/95bqt2d14s56nk202mq58vrh0000gn/T/ipykernel_78344/4057692070.py:41: UserWarning: Using default sampling frequency set in configuration file.\n",
      "  extracted_features = tsfel.time_series_features_extractor(features, signal_df, fr=sr)\n"
     ]
    },
    {
     "data": {
      "text/html": [
       "\n",
       "              <p>\n",
       "                  Progress: 100% Complete\n",
       "              <p/>\n",
       "              <progress\n",
       "                  value='67'\n",
       "                  max='67',\n",
       "                  style='width: 25%',\n",
       "              >\n",
       "                  67\n",
       "              </progress>\n",
       "\n",
       "    "
      ],
      "text/plain": [
       "<IPython.core.display.HTML object>"
      ]
     },
     "metadata": {},
     "output_type": "display_data"
    },
    {
     "name": "stderr",
     "output_type": "stream",
     "text": [
      "/var/folders/sr/95bqt2d14s56nk202mq58vrh0000gn/T/ipykernel_78344/4057692070.py:41: UserWarning: Using default sampling frequency set in configuration file.\n",
      "  extracted_features = tsfel.time_series_features_extractor(features, signal_df, fr=sr)\n"
     ]
    },
    {
     "data": {
      "text/html": [
       "\n",
       "              <p>\n",
       "                  Progress: 100% Complete\n",
       "              <p/>\n",
       "              <progress\n",
       "                  value='67'\n",
       "                  max='67',\n",
       "                  style='width: 25%',\n",
       "              >\n",
       "                  67\n",
       "              </progress>\n",
       "\n",
       "    "
      ],
      "text/plain": [
       "<IPython.core.display.HTML object>"
      ]
     },
     "metadata": {},
     "output_type": "display_data"
    },
    {
     "name": "stderr",
     "output_type": "stream",
     "text": [
      "/var/folders/sr/95bqt2d14s56nk202mq58vrh0000gn/T/ipykernel_78344/4057692070.py:41: UserWarning: Using default sampling frequency set in configuration file.\n",
      "  extracted_features = tsfel.time_series_features_extractor(features, signal_df, fr=sr)\n"
     ]
    },
    {
     "data": {
      "text/html": [
       "\n",
       "              <p>\n",
       "                  Progress: 100% Complete\n",
       "              <p/>\n",
       "              <progress\n",
       "                  value='67'\n",
       "                  max='67',\n",
       "                  style='width: 25%',\n",
       "              >\n",
       "                  67\n",
       "              </progress>\n",
       "\n",
       "    "
      ],
      "text/plain": [
       "<IPython.core.display.HTML object>"
      ]
     },
     "metadata": {},
     "output_type": "display_data"
    },
    {
     "name": "stderr",
     "output_type": "stream",
     "text": [
      "/var/folders/sr/95bqt2d14s56nk202mq58vrh0000gn/T/ipykernel_78344/4057692070.py:41: UserWarning: Using default sampling frequency set in configuration file.\n",
      "  extracted_features = tsfel.time_series_features_extractor(features, signal_df, fr=sr)\n"
     ]
    },
    {
     "data": {
      "text/html": [
       "\n",
       "              <p>\n",
       "                  Progress: 100% Complete\n",
       "              <p/>\n",
       "              <progress\n",
       "                  value='67'\n",
       "                  max='67',\n",
       "                  style='width: 25%',\n",
       "              >\n",
       "                  67\n",
       "              </progress>\n",
       "\n",
       "    "
      ],
      "text/plain": [
       "<IPython.core.display.HTML object>"
      ]
     },
     "metadata": {},
     "output_type": "display_data"
    },
    {
     "name": "stderr",
     "output_type": "stream",
     "text": [
      "/var/folders/sr/95bqt2d14s56nk202mq58vrh0000gn/T/ipykernel_78344/4057692070.py:41: UserWarning: Using default sampling frequency set in configuration file.\n",
      "  extracted_features = tsfel.time_series_features_extractor(features, signal_df, fr=sr)\n"
     ]
    },
    {
     "data": {
      "text/html": [
       "\n",
       "              <p>\n",
       "                  Progress: 100% Complete\n",
       "              <p/>\n",
       "              <progress\n",
       "                  value='67'\n",
       "                  max='67',\n",
       "                  style='width: 25%',\n",
       "              >\n",
       "                  67\n",
       "              </progress>\n",
       "\n",
       "    "
      ],
      "text/plain": [
       "<IPython.core.display.HTML object>"
      ]
     },
     "metadata": {},
     "output_type": "display_data"
    },
    {
     "name": "stderr",
     "output_type": "stream",
     "text": [
      "/var/folders/sr/95bqt2d14s56nk202mq58vrh0000gn/T/ipykernel_78344/4057692070.py:41: UserWarning: Using default sampling frequency set in configuration file.\n",
      "  extracted_features = tsfel.time_series_features_extractor(features, signal_df, fr=sr)\n"
     ]
    },
    {
     "data": {
      "text/html": [
       "\n",
       "              <p>\n",
       "                  Progress: 100% Complete\n",
       "              <p/>\n",
       "              <progress\n",
       "                  value='67'\n",
       "                  max='67',\n",
       "                  style='width: 25%',\n",
       "              >\n",
       "                  67\n",
       "              </progress>\n",
       "\n",
       "    "
      ],
      "text/plain": [
       "<IPython.core.display.HTML object>"
      ]
     },
     "metadata": {},
     "output_type": "display_data"
    },
    {
     "name": "stderr",
     "output_type": "stream",
     "text": [
      "/var/folders/sr/95bqt2d14s56nk202mq58vrh0000gn/T/ipykernel_78344/4057692070.py:41: UserWarning: Using default sampling frequency set in configuration file.\n",
      "  extracted_features = tsfel.time_series_features_extractor(features, signal_df, fr=sr)\n"
     ]
    },
    {
     "data": {
      "text/html": [
       "\n",
       "              <p>\n",
       "                  Progress: 100% Complete\n",
       "              <p/>\n",
       "              <progress\n",
       "                  value='67'\n",
       "                  max='67',\n",
       "                  style='width: 25%',\n",
       "              >\n",
       "                  67\n",
       "              </progress>\n",
       "\n",
       "    "
      ],
      "text/plain": [
       "<IPython.core.display.HTML object>"
      ]
     },
     "metadata": {},
     "output_type": "display_data"
    },
    {
     "name": "stderr",
     "output_type": "stream",
     "text": [
      "/var/folders/sr/95bqt2d14s56nk202mq58vrh0000gn/T/ipykernel_78344/4057692070.py:41: UserWarning: Using default sampling frequency set in configuration file.\n",
      "  extracted_features = tsfel.time_series_features_extractor(features, signal_df, fr=sr)\n"
     ]
    },
    {
     "data": {
      "text/html": [
       "\n",
       "              <p>\n",
       "                  Progress: 100% Complete\n",
       "              <p/>\n",
       "              <progress\n",
       "                  value='67'\n",
       "                  max='67',\n",
       "                  style='width: 25%',\n",
       "              >\n",
       "                  67\n",
       "              </progress>\n",
       "\n",
       "    "
      ],
      "text/plain": [
       "<IPython.core.display.HTML object>"
      ]
     },
     "metadata": {},
     "output_type": "display_data"
    },
    {
     "name": "stderr",
     "output_type": "stream",
     "text": [
      "/var/folders/sr/95bqt2d14s56nk202mq58vrh0000gn/T/ipykernel_78344/4057692070.py:41: UserWarning: Using default sampling frequency set in configuration file.\n",
      "  extracted_features = tsfel.time_series_features_extractor(features, signal_df, fr=sr)\n"
     ]
    },
    {
     "data": {
      "text/html": [
       "\n",
       "              <p>\n",
       "                  Progress: 100% Complete\n",
       "              <p/>\n",
       "              <progress\n",
       "                  value='67'\n",
       "                  max='67',\n",
       "                  style='width: 25%',\n",
       "              >\n",
       "                  67\n",
       "              </progress>\n",
       "\n",
       "    "
      ],
      "text/plain": [
       "<IPython.core.display.HTML object>"
      ]
     },
     "metadata": {},
     "output_type": "display_data"
    },
    {
     "name": "stderr",
     "output_type": "stream",
     "text": [
      "/var/folders/sr/95bqt2d14s56nk202mq58vrh0000gn/T/ipykernel_78344/4057692070.py:41: UserWarning: Using default sampling frequency set in configuration file.\n",
      "  extracted_features = tsfel.time_series_features_extractor(features, signal_df, fr=sr)\n"
     ]
    },
    {
     "data": {
      "text/html": [
       "\n",
       "              <p>\n",
       "                  Progress: 100% Complete\n",
       "              <p/>\n",
       "              <progress\n",
       "                  value='67'\n",
       "                  max='67',\n",
       "                  style='width: 25%',\n",
       "              >\n",
       "                  67\n",
       "              </progress>\n",
       "\n",
       "    "
      ],
      "text/plain": [
       "<IPython.core.display.HTML object>"
      ]
     },
     "metadata": {},
     "output_type": "display_data"
    },
    {
     "name": "stderr",
     "output_type": "stream",
     "text": [
      "/var/folders/sr/95bqt2d14s56nk202mq58vrh0000gn/T/ipykernel_78344/4057692070.py:41: UserWarning: Using default sampling frequency set in configuration file.\n",
      "  extracted_features = tsfel.time_series_features_extractor(features, signal_df, fr=sr)\n"
     ]
    },
    {
     "data": {
      "text/html": [
       "\n",
       "              <p>\n",
       "                  Progress: 100% Complete\n",
       "              <p/>\n",
       "              <progress\n",
       "                  value='67'\n",
       "                  max='67',\n",
       "                  style='width: 25%',\n",
       "              >\n",
       "                  67\n",
       "              </progress>\n",
       "\n",
       "    "
      ],
      "text/plain": [
       "<IPython.core.display.HTML object>"
      ]
     },
     "metadata": {},
     "output_type": "display_data"
    },
    {
     "name": "stderr",
     "output_type": "stream",
     "text": [
      "/var/folders/sr/95bqt2d14s56nk202mq58vrh0000gn/T/ipykernel_78344/4057692070.py:41: UserWarning: Using default sampling frequency set in configuration file.\n",
      "  extracted_features = tsfel.time_series_features_extractor(features, signal_df, fr=sr)\n"
     ]
    },
    {
     "data": {
      "text/html": [
       "\n",
       "              <p>\n",
       "                  Progress: 100% Complete\n",
       "              <p/>\n",
       "              <progress\n",
       "                  value='67'\n",
       "                  max='67',\n",
       "                  style='width: 25%',\n",
       "              >\n",
       "                  67\n",
       "              </progress>\n",
       "\n",
       "    "
      ],
      "text/plain": [
       "<IPython.core.display.HTML object>"
      ]
     },
     "metadata": {},
     "output_type": "display_data"
    },
    {
     "name": "stderr",
     "output_type": "stream",
     "text": [
      "/var/folders/sr/95bqt2d14s56nk202mq58vrh0000gn/T/ipykernel_78344/4057692070.py:41: UserWarning: Using default sampling frequency set in configuration file.\n",
      "  extracted_features = tsfel.time_series_features_extractor(features, signal_df, fr=sr)\n"
     ]
    },
    {
     "data": {
      "text/html": [
       "\n",
       "              <p>\n",
       "                  Progress: 100% Complete\n",
       "              <p/>\n",
       "              <progress\n",
       "                  value='67'\n",
       "                  max='67',\n",
       "                  style='width: 25%',\n",
       "              >\n",
       "                  67\n",
       "              </progress>\n",
       "\n",
       "    "
      ],
      "text/plain": [
       "<IPython.core.display.HTML object>"
      ]
     },
     "metadata": {},
     "output_type": "display_data"
    },
    {
     "name": "stderr",
     "output_type": "stream",
     "text": [
      "/var/folders/sr/95bqt2d14s56nk202mq58vrh0000gn/T/ipykernel_78344/4057692070.py:41: UserWarning: Using default sampling frequency set in configuration file.\n",
      "  extracted_features = tsfel.time_series_features_extractor(features, signal_df, fr=sr)\n"
     ]
    },
    {
     "data": {
      "text/html": [
       "\n",
       "              <p>\n",
       "                  Progress: 100% Complete\n",
       "              <p/>\n",
       "              <progress\n",
       "                  value='67'\n",
       "                  max='67',\n",
       "                  style='width: 25%',\n",
       "              >\n",
       "                  67\n",
       "              </progress>\n",
       "\n",
       "    "
      ],
      "text/plain": [
       "<IPython.core.display.HTML object>"
      ]
     },
     "metadata": {},
     "output_type": "display_data"
    },
    {
     "name": "stderr",
     "output_type": "stream",
     "text": [
      "/var/folders/sr/95bqt2d14s56nk202mq58vrh0000gn/T/ipykernel_78344/4057692070.py:41: UserWarning: Using default sampling frequency set in configuration file.\n",
      "  extracted_features = tsfel.time_series_features_extractor(features, signal_df, fr=sr)\n"
     ]
    },
    {
     "data": {
      "text/html": [
       "\n",
       "              <p>\n",
       "                  Progress: 100% Complete\n",
       "              <p/>\n",
       "              <progress\n",
       "                  value='67'\n",
       "                  max='67',\n",
       "                  style='width: 25%',\n",
       "              >\n",
       "                  67\n",
       "              </progress>\n",
       "\n",
       "    "
      ],
      "text/plain": [
       "<IPython.core.display.HTML object>"
      ]
     },
     "metadata": {},
     "output_type": "display_data"
    },
    {
     "name": "stderr",
     "output_type": "stream",
     "text": [
      "/var/folders/sr/95bqt2d14s56nk202mq58vrh0000gn/T/ipykernel_78344/4057692070.py:41: UserWarning: Using default sampling frequency set in configuration file.\n",
      "  extracted_features = tsfel.time_series_features_extractor(features, signal_df, fr=sr)\n"
     ]
    },
    {
     "data": {
      "text/html": [
       "\n",
       "              <p>\n",
       "                  Progress: 100% Complete\n",
       "              <p/>\n",
       "              <progress\n",
       "                  value='67'\n",
       "                  max='67',\n",
       "                  style='width: 25%',\n",
       "              >\n",
       "                  67\n",
       "              </progress>\n",
       "\n",
       "    "
      ],
      "text/plain": [
       "<IPython.core.display.HTML object>"
      ]
     },
     "metadata": {},
     "output_type": "display_data"
    },
    {
     "name": "stderr",
     "output_type": "stream",
     "text": [
      "/var/folders/sr/95bqt2d14s56nk202mq58vrh0000gn/T/ipykernel_78344/4057692070.py:41: UserWarning: Using default sampling frequency set in configuration file.\n",
      "  extracted_features = tsfel.time_series_features_extractor(features, signal_df, fr=sr)\n"
     ]
    },
    {
     "data": {
      "text/html": [
       "\n",
       "              <p>\n",
       "                  Progress: 100% Complete\n",
       "              <p/>\n",
       "              <progress\n",
       "                  value='67'\n",
       "                  max='67',\n",
       "                  style='width: 25%',\n",
       "              >\n",
       "                  67\n",
       "              </progress>\n",
       "\n",
       "    "
      ],
      "text/plain": [
       "<IPython.core.display.HTML object>"
      ]
     },
     "metadata": {},
     "output_type": "display_data"
    },
    {
     "name": "stdout",
     "output_type": "stream",
     "text": [
      "(19, 1, 156)\n"
     ]
    }
   ],
   "source": [
    "# function to generate sentence file paths\n",
    "def generate_sentence_file_paths(base_name, num_files):\n",
    "    return [f\"dataset/registered/sentences/{base_name}_sen{i}.wav\" for i in range(1, num_files + 1)]\n",
    "\n",
    "def create_labels_and_features(file_paths, speaker_id):\n",
    "    features = []\n",
    "    labels = []\n",
    "    \n",
    "    for file_path in file_paths:\n",
    "        [embedding, y] = extract_mfcc(file_path)\n",
    "        features.append(embedding)\n",
    "        labels.append(speaker_id) \n",
    "    \n",
    "    return np.array(features), np.array(labels)\n",
    "\n",
    "arianna_files = generate_sentence_file_paths('arianna', 23)\n",
    "andre_files = generate_sentence_file_paths('andre', 19) \n",
    "\n",
    "# Labels creation: Arianna (speaker_id = 0), André (speaker_id = 1)\n",
    "arianna_features, arianna_labels = create_labels_and_features(arianna_files, speaker_id=0)\n",
    "andre_features, andre_labels = create_labels_and_features(andre_files, speaker_id=1)\n",
    "\n",
    "print(andre_features.shape)\n",
    "\n",
    "# Features unified\n",
    "X_train = np.vstack([arianna_features, andre_features])  \n",
    "y_train = np.hstack([arianna_labels, andre_labels])"
   ]
  },
  {
   "cell_type": "code",
   "execution_count": 381,
   "metadata": {},
   "outputs": [
    {
     "name": "stdout",
     "output_type": "stream",
     "text": [
      "(42, 156)\n"
     ]
    },
    {
     "data": {
      "image/png": "[encoded data removed]",
      "text/plain": [
       "<Figure size 600x500 with 1 Axes>"
      ]
     },
     "metadata": {},
     "output_type": "display_data"
    }
   ],
   "source": [
    "# PCA to reduce informations in 2 dimensions\n",
    "pca = PCA(n_components=2)\n",
    "X_train_aggregated = X_train.mean(axis=1)\n",
    "print(X_train_aggregated.shape)\n",
    "X_pca = pca.fit_transform(X_train_aggregated)\n",
    "\n",
    "# Supponendo che X_pca, y_train siano definiti\n",
    "plt.figure(figsize=(6, 5))\n",
    "\n",
    "# Scatter plot per i punti con etichetta 0\n",
    "plt.scatter(X_pca[y_train == 0][:, 0], X_pca[y_train == 0][:, 1], label='Arianna', color='blue', alpha=0.5)\n",
    "plt.scatter(X_pca[y_train == 1][:, 0], X_pca[y_train == 1][:, 1], label='Andrè', color='red', alpha=0.5)\n",
    "\n",
    "# Annotazioni per i punti con etichetta 0\n",
    "for i in range(len(X_pca)):\n",
    "    if y_train[i] == 0:\n",
    "        plt.text(X_pca[i, 0], X_pca[i, 1], str(i), fontsize=8, color='blue', alpha=0.7)\n",
    "\n",
    "# Annotazioni per i punti con etichetta 1\n",
    "for i in range(len(X_pca)):\n",
    "    if y_train[i] == 1:\n",
    "        plt.text(X_pca[i, 0], X_pca[i, 1], str(i), fontsize=8, color='red', alpha=0.7)\n",
    "\n",
    "plt.legend()\n",
    "plt.xlabel('Principal Component 1')\n",
    "plt.ylabel('Principal Component 2')\n",
    "plt.title('Scatter Plot with Indices')\n",
    "plt.show()"
   ]
  },
  {
   "cell_type": "markdown",
   "metadata": {},
   "source": [
    "## Model training and Speaker recognition \n",
    "\n",
    "Recognizes who is speaking regardless of content.\n",
    "Focus on the physical and behavioural properties of the voice."
   ]
  },
  {
   "cell_type": "code",
   "execution_count": 405,
   "metadata": {},
   "outputs": [
    {
     "name": "stdout",
     "output_type": "stream",
     "text": [
      "./dataset/test/pedro_falcon.wav\n"
     ]
    },
    {
     "name": "stderr",
     "output_type": "stream",
     "text": [
      "/var/folders/sr/95bqt2d14s56nk202mq58vrh0000gn/T/ipykernel_78344/4057692070.py:41: UserWarning: Using default sampling frequency set in configuration file.\n",
      "  extracted_features = tsfel.time_series_features_extractor(features, signal_df, fr=sr)\n"
     ]
    },
    {
     "data": {
      "text/html": [
       "\n",
       "              <p>\n",
       "                  Progress: 100% Complete\n",
       "              <p/>\n",
       "              <progress\n",
       "                  value='67'\n",
       "                  max='67',\n",
       "                  style='width: 25%',\n",
       "              >\n",
       "                  67\n",
       "              </progress>\n",
       "\n",
       "    "
      ],
      "text/plain": [
       "<IPython.core.display.HTML object>"
      ]
     },
     "metadata": {},
     "output_type": "display_data"
    },
    {
     "name": "stdout",
     "output_type": "stream",
     "text": [
      "Predicted speaker: Arianna, with confidence: 0.51\n",
      "Speaker unknown...\n"
     ]
    }
   ],
   "source": [
    "# initialize and train the model\n",
    "model = RandomForestClassifier(n_estimators=100, max_depth=10, random_state=42)\n",
    "\n",
    "n_samples, time_steps, n_features = X_train.shape\n",
    "X_train_flattened = X_train.reshape(n_samples, time_steps * n_features)\n",
    "\n",
    "model.fit(X_train_flattened, y_train)   # train the model, result: iperplane\n",
    "\n",
    "path_test_audio = choose_test_audio(0)\n",
    "print(path_test_audio)\n",
    "test_embedding, test_audio = extract_mfcc(path_test_audio)\n",
    "test_embedding_reshaped = test_embedding.reshape(1, -1)\n",
    "\n",
    "probabilities = model.predict_proba(test_embedding_reshaped)[0]\n",
    "prediction = np.argmax(probabilities)  # Speaker predicted\n",
    "confidence = probabilities[prediction]  # Confidence\n",
    "\n",
    "predicted_speaker = 'Arianna' if prediction==0 else 'Andre'\n",
    "print(f\"Predicted speaker: {predicted_speaker}, with confidence: {confidence}\")\n",
    "\n",
    "threshold = 0.90\n",
    "if confidence < threshold:\n",
    "    print(\"Speaker unknown...\")\n",
    "else:\n",
    "    print(f\"{predicted_speaker}, speaker recognized!\")"
   ]
  },
  {
   "cell_type": "markdown",
   "metadata": {},
   "source": [
    "## Password recognition\n",
    "\n",
    "The system checks that the person is using their own password and not someone else's. The spoken password is transcribed into text and compared with the registered password of the identified user. To prevent transcription errors, the system also performs a direct audio verification, comparing the spoken sounds with the stored acoustic model of the password."
   ]
  },
  {
   "cell_type": "code",
   "execution_count": 383,
   "metadata": {},
   "outputs": [
    {
     "name": "stdout",
     "output_type": "stream",
     "text": [
      "Sorry, could not understand the audio.\n"
     ]
    }
   ],
   "source": [
    "def recognize_password(path_test_audio, prediction):\n",
    "    recognizer = sr.Recognizer()\n",
    "    correct_password = 'Falcon' if prediction==0 else 'Tiger'\n",
    "\n",
    "    with sr.AudioFile(path_test_audio) as source:\n",
    "            test_audio = recognizer.record(source)\n",
    "\n",
    "    try:\n",
    "        # Use Google Web Speech API to trascript in text\n",
    "        recognized_text = recognizer.recognize_google(test_audio)\n",
    "        print(f\"Recognized text: {recognized_text}\")\n",
    "\n",
    "        similarity = fuzz.ratio(recognized_text.lower(), correct_password.lower())\n",
    "\n",
    "        # Confronta la parola riconosciuta con la password\n",
    "        if similarity >= 80:\n",
    "            print(\"Password recognized successfully!\")\n",
    "            print(\"Access allowed!\")\n",
    "        else:\n",
    "            print(\"Password does not match...\")\n",
    "            print(\"Access denied.\")\n",
    "    \n",
    "    except sr.UnknownValueError:\n",
    "        print(\"Sorry, could not understand the audio.\")\n",
    "    except sr.RequestError as e:\n",
    "        print(f\"Error with the speech recognition service: {e}\")\n",
    "\n",
    "recognize_password(path_test_audio, prediction)"
   ]
  }
 ],
 "metadata": {
  "kernelspec": {
   "display_name": "Python 3",
   "language": "python",
   "name": "python3"
  },
  "language_info": {
   "codemirror_mode": {
    "name": "ipython",
    "version": 3
   },
   "file_extension": ".py",
   "mimetype": "text/x-python",
   "name": "python",
   "nbconvert_exporter": "python",
   "pygments_lexer": "ipython3",
   "version": "3.9.6"
  }
 },
 "nbformat": 4,
 "nbformat_minor": 2
}
